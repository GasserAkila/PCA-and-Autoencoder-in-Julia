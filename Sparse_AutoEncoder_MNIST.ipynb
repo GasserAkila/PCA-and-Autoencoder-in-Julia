{
 "cells": [
  {
   "cell_type": "markdown",
   "metadata": {
    "deletable": true,
    "editable": true
   },
   "source": [
    "## Note:\n",
    "\n",
    "- If output layer is same like hidden (use sigmoids).. NO Accurate reconstructed output\n",
    "- Best results when: \n",
    "\n",
    "> hidden: sigmoid \n",
    "\n",
    "> output: RELU, and \n",
    "\n",
    "> inputs normalized(0,1) to be suitable for sigmoid\n",
    "\n",
    "> no reguliazation"
   ]
  },
  {
   "cell_type": "code",
   "execution_count": 1,
   "metadata": {
    "collapsed": false,
    "deletable": true,
    "editable": true
   },
   "outputs": [
    {
     "data": {
      "text/plain": [
       "MNIST"
      ]
     },
     "execution_count": 1,
     "metadata": {},
     "output_type": "execute_result"
    }
   ],
   "source": [
    "using PyPlot\n",
    "using StatsBase\n",
    "using Distributions\n",
    "include(\"MNIST.jl\")"
   ]
  },
  {
   "cell_type": "markdown",
   "metadata": {
    "deletable": true,
    "editable": true
   },
   "source": [
    "# Reading MNIST Data\n",
    "and dividing it to :\n",
    "- unlabelled data (all MNIST images >5)\n",
    "- labelled data (other images)"
   ]
  },
  {
   "cell_type": "code",
   "execution_count": 2,
   "metadata": {
    "collapsed": false,
    "deletable": true,
    "editable": true
   },
   "outputs": [],
   "source": [
    "data,labels=MNIST.traindata();\n",
    "unlabeled_index = find(labels.>= 3);\n",
    "labeled_index = find(labels.< 5);"
   ]
  },
  {
   "cell_type": "code",
   "execution_count": 3,
   "metadata": {
    "collapsed": false,
    "deletable": true,
    "editable": true
   },
   "outputs": [
    {
     "data": {
      "text/plain": [
       "(41377,784)"
      ]
     },
     "execution_count": 3,
     "metadata": {},
     "output_type": "execute_result"
    }
   ],
   "source": [
    "unlabeled_data = data[:, unlabeled_index]';\n",
    "size(unlabeled_data)"
   ]
  },
  {
   "cell_type": "markdown",
   "metadata": {
    "deletable": true,
    "editable": true
   },
   "source": [
    "# Normalization(between 0 and 1)"
   ]
  },
  {
   "cell_type": "code",
   "execution_count": 4,
   "metadata": {
    "collapsed": false,
    "deletable": true,
    "editable": true
   },
   "outputs": [],
   "source": [
    "for i=1:size(unlabeled_data,2)\n",
    "    maxi=maximum(unlabeled_data[:,i])\n",
    "    mini=minimum(unlabeled_data[:,i])\n",
    "    unlabeled_data[:,i]= (unlabeled_data[:,i].-mini)./(maxi-mini +0.001)\n",
    "end"
   ]
  },
  {
   "cell_type": "markdown",
   "metadata": {
    "deletable": true,
    "editable": true
   },
   "source": [
    "# > OR :Whitening by PCA (0 mean- unit variance)"
   ]
  },
  {
   "cell_type": "code",
   "execution_count": 5,
   "metadata": {
    "collapsed": true,
    "deletable": true,
    "editable": true
   },
   "outputs": [],
   "source": [
    "# xyzMean = mean(unlabeled_data,1)\n",
    "# trainZeroMean= training_data .- xyzMean # 1. zero mean data\n",
    "    \n",
    "# sigma=cov(trainZeroMean) # sigma is the covraince becuase data has zero mean\n",
    "# lamda= eigvals(sigma)\n",
    "# lamda= reshape(lamda,1,length(lamda))\n",
    "\n",
    "\n",
    "# trainUnitVariance= trainZeroMean ./ sqrt(lamda+0.001); #2. unit variance\n",
    "\n",
    "# unlabeled_data=trainUnitVariance"
   ]
  },
  {
   "cell_type": "markdown",
   "metadata": {
    "deletable": true,
    "editable": true
   },
   "source": [
    "# Parameters"
   ]
  },
  {
   "cell_type": "code",
   "execution_count": 6,
   "metadata": {
    "collapsed": false,
    "deletable": true,
    "editable": true
   },
   "outputs": [
    {
     "data": {
      "text/plain": [
       "827"
      ]
     },
     "execution_count": 6,
     "metadata": {},
     "output_type": "execute_result"
    }
   ],
   "source": [
    "k= 180                            # number of highest activations\n",
    "hiddenSize=300                     # number of hidden nodes in layer 2\n",
    "visibleSize=size(unlabeled_data,2) # size of first layer (input)&& output layer\n",
    "lamda=0.0                         # regulization param\n",
    "alpha= 0.001                    # learning rate\n",
    "iterations=2000                 \n",
    "batchSize=50                   # number of examples at each iteration of the training\n",
    "numBatches= floor(Int,size(unlabeled_data,1)/batchSize)   # number of batches that cover all unlabeled_data\n"
   ]
  },
  {
   "cell_type": "markdown",
   "metadata": {
    "deletable": true,
    "editable": true
   },
   "source": [
    "# Basic Functions"
   ]
  },
  {
   "cell_type": "code",
   "execution_count": 7,
   "metadata": {
    "collapsed": false,
    "deletable": true,
    "editable": true
   },
   "outputs": [
    {
     "data": {
      "text/plain": [
       "initialize (generic function with 1 method)"
      ]
     },
     "execution_count": 7,
     "metadata": {},
     "output_type": "execute_result"
    }
   ],
   "source": [
    "# Initiliaze weights within (-r,r)\n",
    "function initialize()\n",
    "    r= sqrt(6)/ sqrt(hiddenSize+visibleSize+1);\n",
    "    dist=Uniform(-r,r)\n",
    "#     dist=Uniform(0,1)\n",
    "    W1= rand(dist,visibleSize,hiddenSize)#*2*r -r; # Uniform \n",
    "    W2= rand(dist,hiddenSize,visibleSize)#*2*r - r;\n",
    "    b1= zeros(hiddenSize)';\n",
    "    b2= zeros(visibleSize)';\n",
    "    W1,W2,b1,b2\n",
    "end\n"
   ]
  },
  {
   "cell_type": "code",
   "execution_count": 8,
   "metadata": {
    "collapsed": false,
    "deletable": true,
    "editable": true
   },
   "outputs": [
    {
     "data": {
      "text/plain": [
       "shuffle_data (generic function with 1 method)"
      ]
     },
     "execution_count": 8,
     "metadata": {},
     "output_type": "execute_result"
    }
   ],
   "source": [
    "function shuffle_data(data)\n",
    "    m,n=size(data)\n",
    "    indxes=shuffle(1:m)\n",
    "    view(data,indxes,1:n) # view doesn't copy the array, just a subarray\n",
    "end"
   ]
  },
  {
   "cell_type": "code",
   "execution_count": 9,
   "metadata": {
    "collapsed": false,
    "deletable": true,
    "editable": true
   },
   "outputs": [],
   "source": [
    "# Activation Function and KL-Divergence\n",
    "sigmoid(x)= 1/(1+exp(-x));\n",
    "RELU(x)=  max(0,x)\n",
    "RELUDerv(x)= sigmoid(x)\n",
    "sigmoidDerv(x)= sigmoid(x) * (1-sigmoid(x));\n"
   ]
  },
  {
   "cell_type": "markdown",
   "metadata": {
    "deletable": true,
    "editable": true
   },
   "source": [
    "# Autoencoder Forward Pass"
   ]
  },
  {
   "cell_type": "code",
   "execution_count": 10,
   "metadata": {
    "collapsed": false,
    "deletable": true,
    "editable": true
   },
   "outputs": [
    {
     "data": {
      "text/plain": [
       "forward_step (generic function with 1 method)"
      ]
     },
     "execution_count": 10,
     "metadata": {},
     "output_type": "execute_result"
    }
   ],
   "source": [
    "function forward_step(x,W1,W2,b1,b2,k)\n",
    "    a1=x #m*features\n",
    "    m= size(x,1)\n",
    "    \n",
    "    z2=a1*W1 .+b1 #+ repmat(b1,m)\n",
    "    a2=sigmoid.(z2) # m*hidden.. each column is activation of 1 node over all examples\n",
    "  \n",
    "    z3= a2*W2 .+ b2 #repmat(b2,m)\n",
    "    a3=RELU.(z3) # m*visible .. Each row corresponds to one example\n",
    "    \n",
    "    ## Select first K highest activations at each example.. and make others zeros\n",
    "    for i in 1:size(a2,1)\n",
    "        indxes=sortperm(a2[i,:],rev=true)\n",
    "        a2[i,indxes[k+1:end]]=0.0\n",
    "    end\n",
    "        \n",
    "    return a1,a2,a3,z2,z3\n",
    "end"
   ]
  },
  {
   "cell_type": "markdown",
   "metadata": {
    "deletable": true,
    "editable": true
   },
   "source": [
    "# Helper Functions for backward pass:\n",
    "### - will be called per each example"
   ]
  },
  {
   "cell_type": "code",
   "execution_count": 11,
   "metadata": {
    "collapsed": false,
    "deletable": true,
    "editable": true
   },
   "outputs": [
    {
     "data": {
      "text/plain": [
       "get_lastError (generic function with 1 method)"
      ]
     },
     "execution_count": 11,
     "metadata": {},
     "output_type": "execute_result"
    }
   ],
   "source": [
    "### Gets delta at last layer in the network\n",
    "\n",
    "# y is vector of all outputs of each training example\n",
    "# a is activation of all neurons in last layer\n",
    "# z is the inputs to each neuron of last layer\n",
    "# output must be vector with size of output neurons\n",
    "function get_lastError(y,a,z)\n",
    "    delta = -(y-a) .* RELUDerv.(z)\n",
    "#     delta = -(y-a) .* sigmoidDerv.(z)\n",
    "end"
   ]
  },
  {
   "cell_type": "code",
   "execution_count": 12,
   "metadata": {
    "collapsed": false,
    "deletable": true,
    "editable": true
   },
   "outputs": [
    {
     "data": {
      "text/plain": [
       "get_error (generic function with 1 method)"
      ]
     },
     "execution_count": 12,
     "metadata": {},
     "output_type": "execute_result"
    }
   ],
   "source": [
    "### Get delta at other layers (not the last).. and no delta for the first layer\n",
    "\n",
    "# OUTPUT deltai will be number of neurons in layer l to be then collected in one big delta i with m*number of neurons in l\n",
    "# delta j and W[i,:] must be both column vectors to be dotted\n",
    "# deltaj: the error of the next layer (it is m* number of neurons in the layer l+1)\n",
    "# zi : the inputs to current layer before applying the activation function on them (it is m* number of neurons in layer l)\n",
    "# W : weights matrices from layer l to layer l+1 (size: neurons in l * neurons in l+1)\n",
    "function get_error(zi,deltaj,W) \n",
    "    deltai=zeros(length(zi))\n",
    "    for i in 1:length(zi)\n",
    "        deltai[i]= dot(W[i,:],deltaj)  * sigmoidDerv(zi[i])  # deltai\n",
    "    end\n",
    "    deltai\n",
    "end"
   ]
  },
  {
   "cell_type": "code",
   "execution_count": 13,
   "metadata": {
    "collapsed": false,
    "deletable": true,
    "editable": true
   },
   "outputs": [
    {
     "data": {
      "text/plain": [
       "partialDerv_W (generic function with 1 method)"
      ]
     },
     "execution_count": 13,
     "metadata": {},
     "output_type": "execute_result"
    }
   ],
   "source": [
    "### Get partial deravtives of weights [Wij: between layer i and layer j ]\n",
    "\n",
    "# deltaj (in next layer.. vector of deltas for each neuron)\n",
    "# ai : vector of activations for each neuron in hidden\n",
    "# make them a row vector and a is column vector so output is matrix\n",
    "function partialDerv_W(deltaj,ai)\n",
    "    partial_derv= ai.*deltaj'\n",
    "end"
   ]
  },
  {
   "cell_type": "code",
   "execution_count": 14,
   "metadata": {
    "collapsed": false,
    "deletable": true,
    "editable": true
   },
   "outputs": [
    {
     "data": {
      "text/plain": [
       "partialDerv_b (generic function with 1 method)"
      ]
     },
     "execution_count": 14,
     "metadata": {},
     "output_type": "execute_result"
    }
   ],
   "source": [
    "### Get partial deravtives of biases [bi: that depends on nect layer's error deltaj]\n",
    "\n",
    "# #  deltaj is vecotr of next layer errors\n",
    "function partialDerv_b(deltaj) \n",
    "    partial_derv= deltaj'\n",
    "end"
   ]
  },
  {
   "cell_type": "markdown",
   "metadata": {
    "deletable": true,
    "editable": true
   },
   "source": [
    "# Autoencoder Backward Pass"
   ]
  },
  {
   "cell_type": "code",
   "execution_count": 15,
   "metadata": {
    "collapsed": false,
    "deletable": true,
    "editable": true
   },
   "outputs": [
    {
     "data": {
      "text/plain": [
       "batch_gradient_descent (generic function with 1 method)"
      ]
     },
     "execution_count": 15,
     "metadata": {},
     "output_type": "execute_result"
    }
   ],
   "source": [
    "function batch_gradient_descent(a1,a2,a3,z2,z3,W1,W2,b1,b2)\n",
    "   \n",
    "    m=size(a1,1)\n",
    "    W1_derv_matrix=zeros(size(W1))\n",
    "    W2_derv_matrix=zeros(size(W2))\n",
    "    b1_derv_matrix=zeros(size(b1))\n",
    "    b2_derv_matrix=zeros(size(b2))\n",
    "    normalCost=0\n",
    "\n",
    "    for i =1:m\n",
    "        normalCost+= 0.5*sqrt(sum((a3[i,:]-a1[i,:]).^2)) # squared reconstruction  error\n",
    "        delta3= get_lastError(a1[i,:],a3[i,:],z3[i,:]) \n",
    "        delta2= get_error(z2[i,:],delta3,W2)\n",
    "\n",
    "        W2_derv= partialDerv_W(delta3, a2[i,:])\n",
    "        W1_derv= partialDerv_W(delta2, a1[i,:])\n",
    "        b2_derv= partialDerv_b(delta3)\n",
    "        b1_derv= partialDerv_b(delta2)\n",
    "\n",
    "        W1_derv_matrix += W1_derv\n",
    "        W2_derv_matrix += W2_derv\n",
    "        b1_derv_matrix += b1_derv\n",
    "        b2_derv_matrix += b2_derv\n",
    "\n",
    "    end\n",
    "\n",
    "    regCost= (lamda/2)*sum(W1.^2)*sum(W2.^2) \n",
    "    TotalCost = normalCost/m + regCost \n",
    "\n",
    "    W1= W1- alpha* (W1_derv_matrix/m  + lamda*W1)\n",
    "    W2= W2- alpha* (W2_derv_matrix/m  + lamda*W2)\n",
    "    b1= b1- alpha* (b1_derv_matrix/m )\n",
    "    b2= b2- alpha* (b2_derv_matrix/m )\n",
    "    \n",
    "    TotalCost,W1,W2,b1,b2\n",
    "    \n",
    "end"
   ]
  },
  {
   "cell_type": "markdown",
   "metadata": {
    "deletable": true,
    "editable": true
   },
   "source": [
    "# Testing Autoencoder"
   ]
  },
  {
   "cell_type": "code",
   "execution_count": 16,
   "metadata": {
    "collapsed": false,
    "deletable": true,
    "editable": true
   },
   "outputs": [],
   "source": [
    "AllCosts=Array(Float64,0)\n",
    "currentBatch=0\n",
    "from=1\n",
    "finalActivations=[]\n",
    "finalOutput=[]\n",
    "finalBatch=[]\n",
    "W1,W2,b1,b2 = initialize()\n",
    "unlabeled_data= shuffle_data(unlabeled_data)\n",
    "\n",
    "for i=1:iterations\n",
    "    currentBatch+=1\n",
    "    # if iterations are more than one pass over all data, pass again over the data after shuffling\n",
    "    if currentBatch>numBatches \n",
    "        from=1\n",
    "        unlabeled_data= shuffle_data(unlabeled_data)\n",
    "    end\n",
    "    # the end index of the batch\n",
    "    to = from+batchSize-1\n",
    "    #Get current batch of the unlabeled data\n",
    "    batch=unlabeled_data[from:to,:]\n",
    "    a1,a2,a3,z2,z3=forward_step(batch,W1,W2,b1,b2,k)\n",
    "    cost,W1,W2,b1,b2= batch_gradient_descent(a1,a2,a3,z2,z3,W1,W2,b1,b2);\n",
    "#     println(\"weights $(W1[1:3,1:3])\")\n",
    "#     println(\"activations $(z2[1:3,1:3])\")\n",
    "#     println(cost)\n",
    "    push!(AllCosts,cost)\n",
    "    if i==iterations\n",
    "        finalActivations=a2\n",
    "        finalOutput=a3\n",
    "        finalBatch=batch\n",
    "    end\n",
    "    from = to\n",
    "end\n",
    "# The final minimum cost is:\n",
    "AllCosts[end]"
   ]
  },
  {
   "cell_type": "code",
   "execution_count": 17,
   "metadata": {
    "collapsed": false,
    "deletable": true,
    "editable": true
   },
   "outputs": [
    {
     "data": {
      "image/png": "[encoded data removed]",
      "text/plain": [
       "PyPlot.Figure(PyObject <matplotlib.figure.Figure object at 0x7fa070a58410>)"
      ]
     },
     "metadata": {},
     "output_type": "display_data"
    },
    {
     "data": {
      "text/plain": [
       "1-element Array{Any,1}:\n",
       " PyObject <matplotlib.lines.Line2D object at 0x7fa047d42990>"
      ]
     },
     "execution_count": 17,
     "metadata": {},
     "output_type": "execute_result"
    }
   ],
   "source": [
    "plot(AllCosts[2:end])"
   ]
  },
  {
   "cell_type": "markdown",
   "metadata": {
    "deletable": true,
    "editable": true
   },
   "source": [
    "# Autoencoder Visulaization"
   ]
  },
  {
   "cell_type": "code",
   "execution_count": 18,
   "metadata": {
    "collapsed": true,
    "deletable": true,
    "editable": true
   },
   "outputs": [],
   "source": [
    "using Images\n",
    "using ImageView\n"
   ]
  },
  {
   "cell_type": "code",
   "execution_count": 19,
   "metadata": {
    "collapsed": false,
    "deletable": true,
    "editable": true
   },
   "outputs": [
    {
     "name": "stderr",
     "output_type": "stream",
     "text": [
      "WARNING: ImageMetadata.Image is deprecated, use ImageMetadata.ImageMeta instead.\n",
      "  likely near In[19]:3\n"
     ]
    },
    {
     "data": {
      "image/png": "[encoded data removed]",
      "text/plain": [
       "Gray ImageMeta with:\n",
       "  data: 28×28 Array{Gray{Float64},2}\n",
       "  properties:"
      ]
     },
     "execution_count": 19,
     "metadata": {},
     "output_type": "execute_result"
    }
   ],
   "source": [
    "# the final output layer's values (ex the 25th example in last batch)\n",
    "t= reshape(finalOutput[50,:],28,28);\n",
    "tt=convert(Image{Gray},t)"
   ]
  },
  {
   "cell_type": "code",
   "execution_count": 20,
   "metadata": {
    "collapsed": false,
    "deletable": true,
    "editable": true
   },
   "outputs": [
    {
     "name": "stderr",
     "output_type": "stream",
     "text": [
      "WARNING: ImageMetadata.Image is deprecated, use ImageMetadata.ImageMeta instead.\n",
      "  likely near In[20]:3\n"
     ]
    },
    {
     "data": {
      "image/png": "[encoded data removed]",
      "text/plain": [
       "Gray ImageMeta with:\n",
       "  data: 28×28 Array{Gray{Float64},2}\n",
       "  properties:"
      ]
     },
     "execution_count": 20,
     "metadata": {},
     "output_type": "execute_result"
    }
   ],
   "source": [
    "# the real output (ex the 25th example in last batch)\n",
    "t= reshape(finalBatch[50,:],28,28);\n",
    "tt=convert(Image{Gray},t)"
   ]
  },
  {
   "cell_type": "code",
   "execution_count": 21,
   "metadata": {
    "collapsed": false,
    "deletable": true,
    "editable": true
   },
   "outputs": [
    {
     "name": "stderr",
     "output_type": "stream",
     "text": [
      "WARNING: ImageMetadata.Image is deprecated, use ImageMetadata.ImageMeta instead.\n",
      "  likely near In[21]:3\n"
     ]
    },
    {
     "data": {
      "image/png": "[encoded data removed]",
      "text/plain": [
       "Gray ImageMeta with:\n",
       "  data: 28×28 Array{Gray{Float64},2}\n",
       "  properties:"
      ]
     },
     "execution_count": 21,
     "metadata": {},
     "output_type": "execute_result"
    }
   ],
   "source": [
    "# the last weights values\n",
    "t= reshape(W2[30,:],28,28);\n",
    "tt=convert(Image{Gray},t)"
   ]
  },
  {
   "cell_type": "code",
   "execution_count": null,
   "metadata": {
    "collapsed": true,
    "deletable": true,
    "editable": true
   },
   "outputs": [],
   "source": []
  },
  {
   "cell_type": "code",
   "execution_count": null,
   "metadata": {
    "collapsed": true,
    "deletable": true,
    "editable": true
   },
   "outputs": [],
   "source": []
  }
 ],
 "metadata": {
  "kernelspec": {
   "display_name": "Julia 0.5.0",
   "language": "julia",
   "name": "julia-0.5"
  },
  "language_info": {
   "file_extension": ".jl",
   "mimetype": "application/julia",
   "name": "julia",
   "version": "0.5.0"
  }
 },
 "nbformat": 4,
 "nbformat_minor": 0
}
