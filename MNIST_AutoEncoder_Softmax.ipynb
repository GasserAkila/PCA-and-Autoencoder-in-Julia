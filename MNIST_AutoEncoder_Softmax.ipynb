{
 "cells": [
  {
   "cell_type": "code",
   "execution_count": 1,
   "metadata": {
    "collapsed": false,
    "deletable": true,
    "editable": true
   },
   "outputs": [
    {
     "data": {
      "text/plain": [
       "MNIST"
      ]
     },
     "execution_count": 1,
     "metadata": {},
     "output_type": "execute_result"
    }
   ],
   "source": [
    "using PyPlot\n",
    "using StatsBase\n",
    "include(\"MNIST.jl\")"
   ]
  },
  {
   "cell_type": "markdown",
   "metadata": {
    "deletable": true,
    "editable": true
   },
   "source": [
    "# Reading MNIST Data\n",
    "and dividing it to :\n",
    "- unlabelled data (all MNIST images >5)\n",
    "- labelled data (other images)"
   ]
  },
  {
   "cell_type": "code",
   "execution_count": 2,
   "metadata": {
    "collapsed": false,
    "deletable": true,
    "editable": true
   },
   "outputs": [
    {
     "data": {
      "text/plain": [
       "(784,15298)"
      ]
     },
     "execution_count": 2,
     "metadata": {},
     "output_type": "execute_result"
    }
   ],
   "source": [
    "data,labels=MNIST.traindata();\n",
    "labeled_index = find(labels.< 5);\n",
    "\n",
    "num_train = Int64.(round(length(labeled_index)/ 2 ,0))\n",
    "train_index = labeled_index[1:num_train]\n",
    "test_index = labeled_index[num_train:end]\n",
    "train_data = data[:, train_index]\n",
    "train_labels = labels[train_index]\n",
    "test_data = data[:, test_index]\n",
    "test_labels = labels[test_index]\n",
    "size(train_data)"
   ]
  },
  {
   "cell_type": "code",
   "execution_count": 3,
   "metadata": {
    "collapsed": false,
    "deletable": true,
    "editable": true
   },
   "outputs": [
    {
     "data": {
      "text/plain": [
       "(29404,784)"
      ]
     },
     "execution_count": 3,
     "metadata": {},
     "output_type": "execute_result"
    }
   ],
   "source": [
    "unlabeled_index = find(labels.>= 5);\n",
    "unlabeled_data = data[:, unlabeled_index]';\n",
    "size(unlabeled_data)"
   ]
  },
  {
   "cell_type": "markdown",
   "metadata": {
    "deletable": true,
    "editable": true
   },
   "source": [
    "# Parameters"
   ]
  },
  {
   "cell_type": "code",
   "execution_count": 4,
   "metadata": {
    "collapsed": false,
    "deletable": true,
    "editable": true
   },
   "outputs": [
    {
     "data": {
      "text/plain": [
       "293"
      ]
     },
     "execution_count": 4,
     "metadata": {},
     "output_type": "execute_result"
    }
   ],
   "source": [
    "numClasses=5\n",
    "hiddenSize=200                     # number of hidden nodes in layer 2\n",
    "visibleSize=size(unlabeled_data,2) # size of first layer (input)&& output layer\n",
    "rho=0.1                   # sparsity constraint on all hidden nodes\n",
    "lamda=0.003                         # regulization param\n",
    "beta=3                             # sparsity penalization param\n",
    "alpha= 0.0001                    # learning rate\n",
    "iterations=1000                \n",
    "batchSize=100                   # number of examples at each iteration of the training\n",
    "numBatches= Int64.( round(size(unlabeled_data,1)/batchSize,0) ) -1  # number of batches that cover all unlabeled_data\n"
   ]
  },
  {
   "cell_type": "markdown",
   "metadata": {
    "deletable": true,
    "editable": true
   },
   "source": [
    "# Basic Functions"
   ]
  },
  {
   "cell_type": "code",
   "execution_count": 5,
   "metadata": {
    "collapsed": false,
    "deletable": true,
    "editable": true
   },
   "outputs": [
    {
     "data": {
      "text/plain": [
       "initialize (generic function with 1 method)"
      ]
     },
     "execution_count": 5,
     "metadata": {},
     "output_type": "execute_result"
    }
   ],
   "source": [
    "# Initiliaze weights within (-r,r)\n",
    "function initialize()\n",
    "    r= sqrt(6)/ sqrt(hiddenSize+visibleSize+1);\n",
    "    W1= rand(visibleSize,hiddenSize)*2*r -r;\n",
    "    W2= rand(hiddenSize,visibleSize)*2*r - r;\n",
    "    b1= zeros(hiddenSize)';\n",
    "    b2= zeros(visibleSize)';\n",
    "    W1,W2,b1,b2\n",
    "end\n"
   ]
  },
  {
   "cell_type": "code",
   "execution_count": 6,
   "metadata": {
    "collapsed": false,
    "deletable": true,
    "editable": true
   },
   "outputs": [
    {
     "data": {
      "text/plain": [
       "shuffle_data (generic function with 1 method)"
      ]
     },
     "execution_count": 6,
     "metadata": {},
     "output_type": "execute_result"
    }
   ],
   "source": [
    "function shuffle_data(data)\n",
    "    m=size(data,1)\n",
    "    indxes=sample(1:m,m,replace= false)\n",
    "    data[indxes,:]\n",
    "end"
   ]
  },
  {
   "cell_type": "code",
   "execution_count": 7,
   "metadata": {
    "collapsed": false,
    "deletable": true,
    "editable": true
   },
   "outputs": [
    {
     "data": {
      "text/plain": [
       "KL_divergence (generic function with 1 method)"
      ]
     },
     "execution_count": 7,
     "metadata": {},
     "output_type": "execute_result"
    }
   ],
   "source": [
    "# Activation Function and KL-Divergence\n",
    "sigmoid(x)= 1/(1+exp(-x));\n",
    "sigmoidDerv(x)= sigmoid(x) * (1-sigmoid(x));\n",
    "KL_divergence(x, y)= ( x * log(x / y) ) +  ( (1 - x) * log((1 - x) / (1 - y)) )\n"
   ]
  },
  {
   "cell_type": "markdown",
   "metadata": {
    "deletable": true,
    "editable": true
   },
   "source": [
    "# Autoencoder Forward Pass"
   ]
  },
  {
   "cell_type": "code",
   "execution_count": 8,
   "metadata": {
    "collapsed": false,
    "deletable": true,
    "editable": true
   },
   "outputs": [
    {
     "data": {
      "text/plain": [
       "forward_step (generic function with 1 method)"
      ]
     },
     "execution_count": 8,
     "metadata": {},
     "output_type": "execute_result"
    }
   ],
   "source": [
    "function forward_step(x,W1,W2,b1,b2)\n",
    "    a1=x\n",
    "    m= size(x,1)\n",
    "    \n",
    "    z2=a1*W1 + repmat(b1,m)\n",
    "    a2=sigmoid.(z2) # m*hidden.. each column is activation of 1 node over all examples\n",
    "    \n",
    "    z3= a2*W2 + repmat(b2,m)\n",
    "    a3=sigmoid.(z3) # m*visible .. Each row corresponds to one example\n",
    "    \n",
    "    rho_hat= mean(a2,1) # average activation values (over all examples) for each hidden neuron\n",
    "    \n",
    "    return a1,a2,a3,z2,z3,rho_hat\n",
    "end"
   ]
  },
  {
   "cell_type": "markdown",
   "metadata": {
    "deletable": true,
    "editable": true
   },
   "source": [
    "# Helper Functions for backward pass:\n",
    "### - will be called per each example"
   ]
  },
  {
   "cell_type": "code",
   "execution_count": 9,
   "metadata": {
    "collapsed": false,
    "deletable": true,
    "editable": true
   },
   "outputs": [
    {
     "data": {
      "text/plain": [
       "get_lastError (generic function with 1 method)"
      ]
     },
     "execution_count": 9,
     "metadata": {},
     "output_type": "execute_result"
    }
   ],
   "source": [
    "### Gets delta at last layer in the network\n",
    "\n",
    "# y is vector of all outputs of each training example\n",
    "# a is activation of all neurons in last layer\n",
    "# z is the inputs to each neuron of last layer\n",
    "# output must be vector with size of output neurons\n",
    "function get_lastError(y,a,z)\n",
    "    delta = -(y-a) .* sigmoidDerv.(z)\n",
    "end"
   ]
  },
  {
   "cell_type": "code",
   "execution_count": 10,
   "metadata": {
    "collapsed": false,
    "deletable": true,
    "editable": true
   },
   "outputs": [
    {
     "data": {
      "text/plain": [
       "get_error (generic function with 1 method)"
      ]
     },
     "execution_count": 10,
     "metadata": {},
     "output_type": "execute_result"
    }
   ],
   "source": [
    "### Get delta at other layers (not the last).. and no delta for the first layer\n",
    "\n",
    "# OUTPUT deltai will be number of neurons in layer l to be then collected in one big delta i with m*number of neurons in l\n",
    "# delta j and W[i,:] must be both column vectors to be dotted\n",
    "# deltaj: the error of the next layer (it is m* number of neurons in the layer l+1)\n",
    "# zi : the inputs to current layer before applying the activation function on them (it is m* number of neurons in layer l)\n",
    "# W : weights matrices from layer l to layer l+1 (size: neurons in l * neurons in l+1)\n",
    "function get_error(zi,deltaj,W,rho_hat) \n",
    "    deltai=zeros(length(zi))\n",
    "    for i in 1:length(zi)\n",
    "        a= -(rho/rho_hat[i]) \n",
    "        b=(1-rho)/(1-rho_hat[i])\n",
    "        sparseEffect= beta* ( a+b )\n",
    "        deltai[i]= ( dot(W[i,:],deltaj) + sparseEffect )  * sigmoidDerv(zi[i])  # deltai\n",
    "    end\n",
    "    deltai\n",
    "end"
   ]
  },
  {
   "cell_type": "code",
   "execution_count": 11,
   "metadata": {
    "collapsed": false,
    "deletable": true,
    "editable": true
   },
   "outputs": [
    {
     "data": {
      "text/plain": [
       "partialDerv_W (generic function with 1 method)"
      ]
     },
     "execution_count": 11,
     "metadata": {},
     "output_type": "execute_result"
    }
   ],
   "source": [
    "### Get partial deravtives of weights [Wij: between layer i and layer j ]\n",
    "\n",
    "# deltaj (in next layer.. vector of deltas for each neuron)\n",
    "# ai : vector of activations for each neuron in hidden\n",
    "# make them a row vector and a is column vector so output is matrix\n",
    "function partialDerv_W(deltaj,ai)\n",
    "    partial_derv= ai.*deltaj'\n",
    "end"
   ]
  },
  {
   "cell_type": "code",
   "execution_count": 12,
   "metadata": {
    "collapsed": false,
    "deletable": true,
    "editable": true
   },
   "outputs": [
    {
     "data": {
      "text/plain": [
       "partialDerv_b (generic function with 1 method)"
      ]
     },
     "execution_count": 12,
     "metadata": {},
     "output_type": "execute_result"
    }
   ],
   "source": [
    "### Get partial deravtives of biases [bi: that depends on nect layer's error deltaj]\n",
    "\n",
    "# #  deltaj is vecotr of next layer errors\n",
    "function partialDerv_b(deltaj) \n",
    "    partial_derv= deltaj'\n",
    "end"
   ]
  },
  {
   "cell_type": "markdown",
   "metadata": {
    "deletable": true,
    "editable": true
   },
   "source": [
    "# Autoencoder Backward Pass"
   ]
  },
  {
   "cell_type": "code",
   "execution_count": 13,
   "metadata": {
    "collapsed": false,
    "deletable": true,
    "editable": true
   },
   "outputs": [
    {
     "data": {
      "text/plain": [
       "batch_gradient_descent (generic function with 1 method)"
      ]
     },
     "execution_count": 13,
     "metadata": {},
     "output_type": "execute_result"
    }
   ],
   "source": [
    "function batch_gradient_descent(a1,a2,a3,z2,z3,W1,W2,b1,b2,rho_hat)\n",
    "   \n",
    "    m=size(a1,1)\n",
    "    W1_derv_matrix=zeros(size(W1))\n",
    "    W2_derv_matrix=zeros(size(W2))\n",
    "    b1_derv_matrix=zeros(size(b1))\n",
    "    b2_derv_matrix=zeros(size(b2))\n",
    "    normalCost=0\n",
    "\n",
    "    for i =1:m\n",
    "        normalCost+= 0.5*sqrt(sum((a3[i,:]-a1[i,:]).^2)) # Eculidean norm\n",
    "        delta3= get_lastError(a1[i,:],a3[i,:],z3[i,:]) \n",
    "        delta2= get_error(z2[i,:],delta3,W2,rho_hat)\n",
    "\n",
    "        W2_derv= partialDerv_W(delta3, a2[i,:])\n",
    "        W1_derv= partialDerv_W(delta2, a1[i,:])\n",
    "        b2_derv= partialDerv_b(delta3)\n",
    "        b1_derv= partialDerv_b(delta2)\n",
    "\n",
    "        W1_derv_matrix += W1_derv\n",
    "        W2_derv_matrix += W2_derv\n",
    "        b1_derv_matrix += b1_derv\n",
    "        b2_derv_matrix += b2_derv\n",
    "\n",
    "    end\n",
    " \n",
    "    sparsityCost= beta* sum( KL_divergence.(fill(rho,hiddenSize),rho_hat') ) # rho_hat has size 1*hidden\n",
    "    regCost= (lamda/2)*sum(W1.^2)*sum(W2.^2) \n",
    "    TotalCost = normalCost/m + regCost + sparsityCost\n",
    "\n",
    "    W1= W1- alpha* (W1_derv_matrix/m  + lamda*W1)\n",
    "    W2= W2- alpha* (W2_derv_matrix/m  + lamda*W2)\n",
    "    b1= b1- alpha* (b1_derv_matrix/m )\n",
    "    b2= b2- alpha* (b2_derv_matrix/m )\n",
    "    \n",
    "    TotalCost,W1,W2,b1,b2\n",
    "    \n",
    "end"
   ]
  },
  {
   "cell_type": "markdown",
   "metadata": {
    "deletable": true,
    "editable": true
   },
   "source": [
    "# Testing Autoencoder"
   ]
  },
  {
   "cell_type": "code",
   "execution_count": 14,
   "metadata": {
    "collapsed": false,
    "deletable": true,
    "editable": true
   },
   "outputs": [
    {
     "data": {
      "text/plain": [
       "1660.6685083374532"
      ]
     },
     "execution_count": 14,
     "metadata": {},
     "output_type": "execute_result"
    }
   ],
   "source": [
    "AllCosts=Array(Float64,0)\n",
    "currentBatch=0\n",
    "from=1\n",
    "finalActivations=[]\n",
    "finalOutput=[]\n",
    "finalBatch=[]\n",
    "W1,W2,b1,b2 = initialize()\n",
    "unlabeled_data= shuffle_data(unlabeled_data)\n",
    "\n",
    "for i=1:iterations\n",
    "    currentBatch+=1\n",
    "    # if iterations are more than one pass over all data, pass again over the data after shuffling\n",
    "    if currentBatch>numBatches \n",
    "        from=1\n",
    "        unlabeled_data= shuffle_data(unlabeled_data)\n",
    "    end\n",
    "    # the end index of the batch\n",
    "    to = from+batchSize-1\n",
    "    #Get current batch of the unlabeled data\n",
    "    batch=unlabeled_data[from:to,:]\n",
    "    a1,a2,a3,z2,z3,rho_hat=forward_step(batch,W1,W2,b1,b2)\n",
    "    cost,W1,W2,b1,b2= batch_gradient_descent(a1,a2,a3,z2,z3,W1,W2,b1,b2,rho_hat);\n",
    "    push!(AllCosts,cost)\n",
    "    if i==iterations\n",
    "        finalActivations=a2\n",
    "        finalOutput=a3\n",
    "        finalBatch=batch\n",
    "    end\n",
    "    cost==Inf && break\n",
    "    from = to\n",
    "end\n",
    "# The final minimum cost is:\n",
    "AllCosts[end]"
   ]
  },
  {
   "cell_type": "code",
   "execution_count": 15,
   "metadata": {
    "collapsed": false,
    "deletable": true,
    "editable": true
   },
   "outputs": [
    {
     "data": {
      "image/png": "[encoded data removed]",
      "text/plain": [
       "PyPlot.Figure(PyObject <matplotlib.figure.Figure object at 0x7fb4bf7f3410>)"
      ]
     },
     "metadata": {},
     "output_type": "display_data"
    },
    {
     "data": {
      "text/plain": [
       "1-element Array{Any,1}:\n",
       " PyObject <matplotlib.lines.Line2D object at 0x7fb46e46b990>"
      ]
     },
     "execution_count": 15,
     "metadata": {},
     "output_type": "execute_result"
    }
   ],
   "source": [
    "plot(AllCosts)"
   ]
  },
  {
   "cell_type": "markdown",
   "metadata": {
    "deletable": true,
    "editable": true
   },
   "source": [
    "# >> Softmax for Classification"
   ]
  },
  {
   "cell_type": "code",
   "execution_count": 17,
   "metadata": {
    "collapsed": false,
    "deletable": true,
    "editable": true
   },
   "outputs": [
    {
     "data": {
      "text/plain": [
       "get_features (generic function with 1 method)"
      ]
     },
     "execution_count": 17,
     "metadata": {},
     "output_type": "execute_result"
    }
   ],
   "source": [
    "## get learned features from autoencoder\n",
    "\n",
    "function get_features(x,W,b)\n",
    "    m= size(x,1) # number of examples\n",
    "    b=reshape(b,1,length(b)) # to make it row vector\n",
    "    z=x*W1 + repmat(b,m)\n",
    "    a=sigmoid.(z) \n",
    "    \n",
    "end"
   ]
  },
  {
   "cell_type": "code",
   "execution_count": 26,
   "metadata": {
    "collapsed": false,
    "deletable": true,
    "editable": true
   },
   "outputs": [],
   "source": [
    "train_features= get_features(train_data',W1,b1); # m*hidden\n",
    "test_features= get_features(test_data',W1,b1);  #mTest*hidden"
   ]
  },
  {
   "cell_type": "code",
   "execution_count": 20,
   "metadata": {
    "collapsed": false,
    "deletable": true,
    "editable": true
   },
   "outputs": [
    {
     "data": {
      "text/plain": [
       "softmax_predict (generic function with 1 method)"
      ]
     },
     "execution_count": 20,
     "metadata": {},
     "output_type": "execute_result"
    }
   ],
   "source": [
    "#1. train softmax using train_features\n",
    "#2. test softmax by calling predict and using test features and opt weights from last step\n",
    "\n",
    "\n",
    "function softmax_init(hiddenSize,numClasses)\n",
    "    theta = 0.005 * rand(hiddenSize,numClasses) # hidden*classes\n",
    "end\n",
    "\n",
    "\n",
    "# per one example\n",
    "# x is one example of train_features , a vector of size hidden\n",
    "function softmax_layer(theta,x,y)\n",
    "    h= exp.(x*theta) / sum(exp.(x*theta)) # h is 1*numClasses\n",
    "    costPerExample= dot(y,h) # y is hot encoded\n",
    "    costPerExample,h\n",
    "end\n",
    "\n",
    "function softmax_train(theta,x,y)\n",
    "    m=size(x,1)\n",
    "    cost=0\n",
    "    grad=zeros(size(numClasses))\n",
    "    grad=zeros(size(theta))\n",
    "    for i=1:m\n",
    "        input=reshape(x[i,:],1,length(x[i,:])) # to make it row vector (1*hidden)\n",
    "        output=reshape(y[i,:],1,length(y[i,:]))  # (1*k)\n",
    "        c,prob = softmax_layer(theta,input,output) # y[i,:] is hot encoded, the class prob of each example i\n",
    "        cost+= -c\n",
    "        grad+= -(x[i,:] * (output-prob) ) # to get a matrix of hidden*classes\n",
    "    end\n",
    "    theta= theta- alpha*grad\n",
    "    cost,theta\n",
    "    \n",
    "end\n",
    "\n",
    "\n",
    "function softmax_predict(theta,x)\n",
    "    h= exp.(x*theta) / sum(exp.(x*theta)) # h is m*numClasses\n",
    "    pred=[indmax(h[i,:]) for i=1:size(h,1)]\n",
    "end\n"
   ]
  },
  {
   "cell_type": "code",
   "execution_count": 23,
   "metadata": {
    "collapsed": false,
    "deletable": true,
    "editable": true
   },
   "outputs": [
    {
     "data": {
      "text/plain": [
       "-20.432574496767938"
      ]
     },
     "execution_count": 23,
     "metadata": {},
     "output_type": "execute_result"
    }
   ],
   "source": [
    "y=zeros(length(train_labels),numClasses);\n",
    "[y[i,Int64.(train_labels[i])+1]=1 for i in 1:size(y,1) ];\n",
    "\n",
    "theta= softmax_init(hiddenSize,numClasses)\n",
    "numBatches= Int64.( round(size(train_features,1)/batchSize,0) ) -1\n",
    "from =1\n",
    "AllCosts=[]\n",
    "for i=1:iterations\n",
    "    currentBatch+=1\n",
    "     if currentBatch>numBatches \n",
    "        from=1\n",
    "        train_features= shuffle_data(train_features)\n",
    "    end\n",
    "    to = from+batchSize-1\n",
    "    batchx=train_features[from:to,:]\n",
    "    batchy=y[from:to,:]\n",
    "    cost,theta= softmax_train(theta,batchx,batchy)\n",
    "    push!(AllCosts,cost)\n",
    "    from = to\n",
    "end\n",
    "# The final minimum cost is:\n",
    "AllCosts[end]\n",
    "\n",
    "\n"
   ]
  },
  {
   "cell_type": "code",
   "execution_count": 24,
   "metadata": {
    "collapsed": false,
    "deletable": true,
    "editable": true
   },
   "outputs": [
    {
     "data": {
      "image/png": "[encoded data removed]",
      "text/plain": [
       "PyPlot.Figure(PyObject <matplotlib.figure.Figure object at 0x7fb46e415990>)"
      ]
     },
     "metadata": {},
     "output_type": "display_data"
    },
    {
     "data": {
      "text/plain": [
       "1-element Array{Any,1}:\n",
       " PyObject <matplotlib.lines.Line2D object at 0x7fb484d1ef50>"
      ]
     },
     "execution_count": 24,
     "metadata": {},
     "output_type": "execute_result"
    }
   ],
   "source": [
    "plot(AllCosts)"
   ]
  },
  {
   "cell_type": "code",
   "execution_count": 25,
   "metadata": {
    "collapsed": false,
    "deletable": true,
    "editable": true
   },
   "outputs": [
    {
     "name": "stdout",
     "output_type": "stream",
     "text": [
      "Testing accuracy is 0.19700634028367867\n"
     ]
    }
   ],
   "source": [
    "predictedClasses=softmax_predict(theta,test_features)\n",
    "accuracy= sum(predictedClasses.==test_labels)/ length(test_labels)\n",
    "println(\"Testing accuracy is $accuracy\")"
   ]
  },
  {
   "cell_type": "code",
   "execution_count": null,
   "metadata": {
    "collapsed": true,
    "deletable": true,
    "editable": true
   },
   "outputs": [],
   "source": []
  }
 ],
 "metadata": {
  "kernelspec": {
   "display_name": "Julia 0.5.0",
   "language": "julia",
   "name": "julia-0.5"
  },
  "language_info": {
   "file_extension": ".jl",
   "mimetype": "application/julia",
   "name": "julia",
   "version": "0.5.0"
  }
 },
 "nbformat": 4,
 "nbformat_minor": 0
}
