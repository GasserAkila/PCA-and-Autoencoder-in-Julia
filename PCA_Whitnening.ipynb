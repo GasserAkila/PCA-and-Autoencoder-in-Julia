{
 "cells": [
  {
   "cell_type": "markdown",
   "metadata": {
    "collapsed": false,
    "deletable": true,
    "editable": true
   },
   "source": [
    "### Given training data with size (# examples, # features), the below PCA can work well:\n",
    "> make the data with zero mean\n",
    "\n",
    "> make it with uncorrelated features\n",
    "\n",
    "> make it with unit variance\n",
    "\n",
    "> An additional step can be to convert the data to low dimensional space using only K of its features"
   ]
  },
  {
   "cell_type": "code",
   "execution_count": null,
   "metadata": {
    "collapsed": false,
    "deletable": true,
    "editable": true
   },
   "outputs": [],
   "source": [
    "# Whitening : 1. zero mean for all features 2. Uncorrelated features 3. Unit variance\n",
    "\n",
    "xyzMean = mean(training_data,1) # assuming my data has 3 features only called x,y and z\n",
    "trainZeroMean= training_data .- xyzMean # 1. zero mean data\n",
    "\n",
    "sigma=cov(trainZeroMean) # sigma is the covraince becuase data has zero mean\n",
    "lamda= eigvals(sigma)\n",
    "lamda= reshape(lamda,1,length(lamda))\n",
    "\n",
    "U= eigvecs(sigma)\n",
    "trainRot= trainZeroMean * U # 2. Uncorrelated data\n",
    "\n",
    "\n",
    "trainUnitVariance= trainRot ./ sqrt(lamda+0.001); # unit variance\n",
    "\n"
   ]
  },
  {
   "cell_type": "code",
   "execution_count": null,
   "metadata": {
    "collapsed": false,
    "deletable": true,
    "editable": true
   },
   "outputs": [],
   "source": [
    "# choosing the best K vectors/features to use out of allfeatures\n",
    "function getK(lamda)\n",
    "   allLamda=sum(lamda)\n",
    "    k=1\n",
    "    for k in 1:length(lamda)\n",
    "        (sum(lamda[1:k])/allLamda) >=0.99 ? break : \"\"\n",
    "    end\n",
    "    k\n",
    "end"
   ]
  },
  {
   "cell_type": "code",
   "execution_count": null,
   "metadata": {
    "collapsed": true
   },
   "outputs": [],
   "source": [
    "k=getK(lamda)\n",
    "trainLowerDim= trainRot[:,1:k]  # Lower dimension training data\n"
   ]
  }
 ],
 "metadata": {
  "kernelspec": {
   "display_name": "Julia 0.5.0",
   "language": "julia",
   "name": "julia-0.5"
  },
  "language_info": {
   "file_extension": ".jl",
   "mimetype": "application/julia",
   "name": "julia",
   "version": "0.5.0"
  }
 },
 "nbformat": 4,
 "nbformat_minor": 0
}
