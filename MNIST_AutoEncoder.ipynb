{
 "cells": [
  {
   "cell_type": "code",
   "execution_count": 1,
   "metadata": {
    "collapsed": false,
    "deletable": true,
    "editable": true
   },
   "outputs": [
    {
     "data": {
      "text/plain": [
       "MNIST"
      ]
     },
     "execution_count": 1,
     "metadata": {},
     "output_type": "execute_result"
    }
   ],
   "source": [
    "using PyPlot\n",
    "using StatsBase\n",
    "include(\"MNIST.jl\")"
   ]
  },
  {
   "cell_type": "markdown",
   "metadata": {
    "deletable": true,
    "editable": true
   },
   "source": [
    "# Reading MNIST Data\n",
    "and dividing it to :\n",
    "- unlabelled data (all MNIST images >5)\n",
    "- labelled data (other images)"
   ]
  },
  {
   "cell_type": "code",
   "execution_count": 340,
   "metadata": {
    "collapsed": false,
    "deletable": true,
    "editable": true
   },
   "outputs": [],
   "source": [
    "data,labels=MNIST.traindata();\n",
    "unlabeled_index = find(labels.>= 5);\n",
    "labeled_index = find(labels.< 5);"
   ]
  },
  {
   "cell_type": "code",
   "execution_count": 526,
   "metadata": {
    "collapsed": false,
    "deletable": true,
    "editable": true
   },
   "outputs": [
    {
     "data": {
      "text/plain": [
       "(29404,784)"
      ]
     },
     "execution_count": 526,
     "metadata": {},
     "output_type": "execute_result"
    }
   ],
   "source": [
    "unlabeled_data = data[:, unlabeled_index]';\n",
    "size(unlabeled_data)"
   ]
  },
  {
   "cell_type": "markdown",
   "metadata": {
    "deletable": true,
    "editable": true
   },
   "source": [
    "# Parameters"
   ]
  },
  {
   "cell_type": "code",
   "execution_count": 527,
   "metadata": {
    "collapsed": false,
    "deletable": true,
    "editable": true
   },
   "outputs": [
    {
     "data": {
      "text/plain": [
       "293"
      ]
     },
     "execution_count": 527,
     "metadata": {},
     "output_type": "execute_result"
    }
   ],
   "source": [
    "hiddenSize=200                     # number of hidden nodes in layer 2\n",
    "visibleSize=size(unlabeled_data,2) # size of first layer (input)&& output layer\n",
    "rho=0.1                   # sparsity constraint on all hidden nodes\n",
    "lamda=0.003                         # regulization param\n",
    "beta=3                             # sparsity penalization param\n",
    "alpha= 0.0001                    # learning rate\n",
    "iterations=2000                 \n",
    "batchSize=100                   # number of examples at each iteration of the training\n",
    "numBatches= Int64.( round(size(unlabeled_data,1)/batchSize,0) ) -1  # number of batches that cover all unlabeled_data\n"
   ]
  },
  {
   "cell_type": "markdown",
   "metadata": {
    "deletable": true,
    "editable": true
   },
   "source": [
    "# Basic Functions"
   ]
  },
  {
   "cell_type": "code",
   "execution_count": 528,
   "metadata": {
    "collapsed": false,
    "deletable": true,
    "editable": true
   },
   "outputs": [
    {
     "name": "stderr",
     "output_type": "stream",
     "text": [
      "WARNING: Method definition initialize() in module Main at In[515]:3 overwritten at In[528]:3.\n"
     ]
    },
    {
     "data": {
      "text/plain": [
       "initialize (generic function with 1 method)"
      ]
     },
     "execution_count": 528,
     "metadata": {},
     "output_type": "execute_result"
    }
   ],
   "source": [
    "# Initiliaze weights within (-r,r)\n",
    "function initialize()\n",
    "    r= sqrt(6)/ sqrt(hiddenSize+visibleSize+1);\n",
    "    W1= rand(visibleSize,hiddenSize)*2*r -r;\n",
    "    W2= rand(hiddenSize,visibleSize)*2*r - r;\n",
    "    b1= zeros(hiddenSize)';\n",
    "    b2= zeros(visibleSize)';\n",
    "    W1,W2,b1,b2\n",
    "end\n"
   ]
  },
  {
   "cell_type": "code",
   "execution_count": 536,
   "metadata": {
    "collapsed": false,
    "deletable": true,
    "editable": true
   },
   "outputs": [
    {
     "name": "stderr",
     "output_type": "stream",
     "text": [
      "WARNING: Method definition shuffle_data(Any) in module Main at In[523]:2 overwritten at In[536]:2.\n"
     ]
    },
    {
     "data": {
      "text/plain": [
       "shuffle_data (generic function with 1 method)"
      ]
     },
     "execution_count": 536,
     "metadata": {},
     "output_type": "execute_result"
    }
   ],
   "source": [
    "function shuffle_data(data)\n",
    "    m=size(data,1)\n",
    "    indxes=sample(1:m,m,replace= false)\n",
    "    data[indxes,:]\n",
    "end"
   ]
  },
  {
   "cell_type": "code",
   "execution_count": 529,
   "metadata": {
    "collapsed": false,
    "deletable": true,
    "editable": true
   },
   "outputs": [
    {
     "name": "stderr",
     "output_type": "stream",
     "text": [
      "WARNING: Method definition sigmoid(Any) in module Main at In[516]:2 overwritten at In[529]:2.\n",
      "WARNING: Method definition sigmoidDerv(Any) in module Main at In[516]:3 overwritten at In[529]:3.\n",
      "WARNING: Method definition KL_divergence(Any, Any) in module Main at In[516]:4 overwritten at In[529]:4.\n"
     ]
    },
    {
     "data": {
      "text/plain": [
       "KL_divergence (generic function with 1 method)"
      ]
     },
     "execution_count": 529,
     "metadata": {},
     "output_type": "execute_result"
    }
   ],
   "source": [
    "# Activation Function and KL-Divergence\n",
    "sigmoid(x)= 1/(1+exp(-x));\n",
    "sigmoidDerv(x)= sigmoid(x) * (1-sigmoid(x));\n",
    "KL_divergence(x, y)= ( x * log(x / y) ) +  ( (1 - x) * log((1 - x) / (1 - y)) )\n"
   ]
  },
  {
   "cell_type": "markdown",
   "metadata": {
    "deletable": true,
    "editable": true
   },
   "source": [
    "# Autoencoder Forward Pass"
   ]
  },
  {
   "cell_type": "code",
   "execution_count": 530,
   "metadata": {
    "collapsed": false,
    "deletable": true,
    "editable": true
   },
   "outputs": [
    {
     "name": "stderr",
     "output_type": "stream",
     "text": [
      "WARNING: Method definition forward_step(Any, Any, Any, Any, Any) in module Main at In[517]:2 overwritten at In[530]:2.\n"
     ]
    },
    {
     "data": {
      "text/plain": [
       "forward_step (generic function with 1 method)"
      ]
     },
     "execution_count": 530,
     "metadata": {},
     "output_type": "execute_result"
    }
   ],
   "source": [
    "function forward_step(x,W1,W2,b1,b2)\n",
    "    a1=x\n",
    "    m= size(x,1)\n",
    "    \n",
    "    z2=a1*W1 + repmat(b1,m)\n",
    "    a2=sigmoid.(z2) # m*hidden.. each column is activation of 1 node over all examples\n",
    "    \n",
    "    z3= a2*W2 + repmat(b2,m)\n",
    "    a3=sigmoid.(z3) # m*visible .. Each row corresponds to one example\n",
    "    \n",
    "    rho_hat= mean(a2,1) # average activation values (over all examples) for each hidden neuron\n",
    "    \n",
    "    return a1,a2,a3,z2,z3,rho_hat\n",
    "end"
   ]
  },
  {
   "cell_type": "markdown",
   "metadata": {
    "deletable": true,
    "editable": true
   },
   "source": [
    "# Helper Functions for backward pass:\n",
    "### - will be called per each example"
   ]
  },
  {
   "cell_type": "code",
   "execution_count": 531,
   "metadata": {
    "collapsed": false,
    "deletable": true,
    "editable": true
   },
   "outputs": [
    {
     "name": "stderr",
     "output_type": "stream",
     "text": [
      "WARNING: Method definition get_lastError(Any, Any, Any) in module Main at In[518]:8 overwritten at In[531]:8.\n"
     ]
    },
    {
     "data": {
      "text/plain": [
       "get_lastError (generic function with 1 method)"
      ]
     },
     "execution_count": 531,
     "metadata": {},
     "output_type": "execute_result"
    }
   ],
   "source": [
    "### Gets delta at last layer in the network\n",
    "\n",
    "# y is vector of all outputs of each training example\n",
    "# a is activation of all neurons in last layer\n",
    "# z is the inputs to each neuron of last layer\n",
    "# output must be vector with size of output neurons\n",
    "function get_lastError(y,a,z)\n",
    "    delta = -(y-a) .* sigmoidDerv.(z)\n",
    "end"
   ]
  },
  {
   "cell_type": "code",
   "execution_count": 532,
   "metadata": {
    "collapsed": false,
    "deletable": true,
    "editable": true
   },
   "outputs": [
    {
     "name": "stderr",
     "output_type": "stream",
     "text": [
      "WARNING: Method definition get_error(Any, Any, Any, Any) in module Main at In[519]:9 overwritten at In[532]:9.\n"
     ]
    },
    {
     "data": {
      "text/plain": [
       "get_error (generic function with 1 method)"
      ]
     },
     "execution_count": 532,
     "metadata": {},
     "output_type": "execute_result"
    }
   ],
   "source": [
    "### Get delta at other layers (not the last).. and no delta for the first layer\n",
    "\n",
    "# OUTPUT deltai will be number of neurons in layer l to be then collected in one big delta i with m*number of neurons in l\n",
    "# delta j and W[i,:] must be both column vectors to be dotted\n",
    "# deltaj: the error of the next layer (it is m* number of neurons in the layer l+1)\n",
    "# zi : the inputs to current layer before applying the activation function on them (it is m* number of neurons in layer l)\n",
    "# W : weights matrices from layer l to layer l+1 (size: neurons in l * neurons in l+1)\n",
    "function get_error(zi,deltaj,W,rho_hat) \n",
    "    deltai=zeros(length(zi))\n",
    "    for i in 1:length(zi)\n",
    "        a= -(rho/rho_hat[i]) \n",
    "        b=(1-rho)/(1-rho_hat[i])\n",
    "        sparseEffect= beta* ( a+b )\n",
    "        deltai[i]= ( dot(W[i,:],deltaj) + sparseEffect )  * sigmoidDerv(zi[i])  # deltai\n",
    "    end\n",
    "    deltai\n",
    "end"
   ]
  },
  {
   "cell_type": "code",
   "execution_count": 533,
   "metadata": {
    "collapsed": false,
    "deletable": true,
    "editable": true
   },
   "outputs": [
    {
     "name": "stderr",
     "output_type": "stream",
     "text": [
      "WARNING: Method definition partialDerv_W(Any, Any) in module Main at In[520]:7 overwritten at In[533]:7.\n"
     ]
    },
    {
     "data": {
      "text/plain": [
       "partialDerv_W (generic function with 1 method)"
      ]
     },
     "execution_count": 533,
     "metadata": {},
     "output_type": "execute_result"
    }
   ],
   "source": [
    "### Get partial deravtives of weights [Wij: between layer i and layer j ]\n",
    "\n",
    "# deltaj (in next layer.. vector of deltas for each neuron)\n",
    "# ai : vector of activations for each neuron in hidden\n",
    "# make them a row vector and a is column vector so output is matrix\n",
    "function partialDerv_W(deltaj,ai)\n",
    "    partial_derv= ai.*deltaj'\n",
    "end"
   ]
  },
  {
   "cell_type": "code",
   "execution_count": 534,
   "metadata": {
    "collapsed": false,
    "deletable": true,
    "editable": true
   },
   "outputs": [
    {
     "name": "stderr",
     "output_type": "stream",
     "text": [
      "WARNING: Method definition partialDerv_b(Any) in module Main at In[521]:3 overwritten at In[534]:3.\n"
     ]
    },
    {
     "data": {
      "text/plain": [
       "partialDerv_b (generic function with 1 method)"
      ]
     },
     "execution_count": 534,
     "metadata": {},
     "output_type": "execute_result"
    }
   ],
   "source": [
    "### Get partial deravtives of biases [bi: that depends on nect layer's error deltaj]\n",
    "\n",
    "# #  deltaj is vecotr of next layer errors\n",
    "function partialDerv_b(deltaj) \n",
    "    partial_derv= deltaj'\n",
    "end"
   ]
  },
  {
   "cell_type": "markdown",
   "metadata": {
    "deletable": true,
    "editable": true
   },
   "source": [
    "# Autoencoder Backward Pass"
   ]
  },
  {
   "cell_type": "code",
   "execution_count": 535,
   "metadata": {
    "collapsed": false,
    "deletable": true,
    "editable": true
   },
   "outputs": [
    {
     "name": "stderr",
     "output_type": "stream",
     "text": [
      "WARNING: Method definition batch_gradient_descent(Any, Any, Any, Any, Any, Any, Any, Any, Any, Any) in module Main at In[522]:2 overwritten at In[535]:2.\n"
     ]
    },
    {
     "data": {
      "text/plain": [
       "batch_gradient_descent (generic function with 1 method)"
      ]
     },
     "execution_count": 535,
     "metadata": {},
     "output_type": "execute_result"
    }
   ],
   "source": [
    "function batch_gradient_descent(a1,a2,a3,z2,z3,W1,W2,b1,b2,rho_hat)\n",
    "   \n",
    "    m=size(a1,1)\n",
    "    W1_derv_matrix=zeros(size(W1))\n",
    "    W2_derv_matrix=zeros(size(W2))\n",
    "    b1_derv_matrix=zeros(size(b1))\n",
    "    b2_derv_matrix=zeros(size(b2))\n",
    "    normalCost=0\n",
    "\n",
    "    for i =1:m\n",
    "        normalCost+= 0.5*sqrt(sum((a3[i,:]-a1[i,:]).^2)) # Eculidean norm\n",
    "        delta3= get_lastError(a1[i,:],a3[i,:],z3[i,:]) \n",
    "        delta2= get_error(z2[i,:],delta3,W2,rho_hat)\n",
    "\n",
    "        W2_derv= partialDerv_W(delta3, a2[i,:])\n",
    "        W1_derv= partialDerv_W(delta2, a1[i,:])\n",
    "        b2_derv= partialDerv_b(delta3)\n",
    "        b1_derv= partialDerv_b(delta2)\n",
    "\n",
    "        W1_derv_matrix += W1_derv\n",
    "        W2_derv_matrix += W2_derv\n",
    "        b1_derv_matrix += b1_derv\n",
    "        b2_derv_matrix += b2_derv\n",
    "\n",
    "    end\n",
    " \n",
    "    sparsityCost= beta* sum( KL_divergence.(fill(rho,hiddenSize),rho_hat') ) # rho_hat has size 1*hidden\n",
    "    regCost= (lamda/2)*sum(W1.^2)*sum(W2.^2) \n",
    "    TotalCost = normalCost/m + regCost + sparsityCost\n",
    "\n",
    "    W1= W1- alpha* (W1_derv_matrix/m  + lamda*W1)\n",
    "    W2= W2- alpha* (W2_derv_matrix/m  + lamda*W2)\n",
    "    b1= b1- alpha* (b1_derv_matrix/m )\n",
    "    b2= b2- alpha* (b2_derv_matrix/m )\n",
    "    \n",
    "    TotalCost,W1,W2,b1,b2\n",
    "    \n",
    "end"
   ]
  },
  {
   "cell_type": "markdown",
   "metadata": {
    "deletable": true,
    "editable": true
   },
   "source": [
    "# Testing Autoencoder"
   ]
  },
  {
   "cell_type": "code",
   "execution_count": 537,
   "metadata": {
    "collapsed": false,
    "deletable": true,
    "editable": true
   },
   "outputs": [
    {
     "data": {
      "text/plain": [
       "1622.16407373923"
      ]
     },
     "execution_count": 537,
     "metadata": {},
     "output_type": "execute_result"
    }
   ],
   "source": [
    "AllCosts=Array(Float64,0)\n",
    "currentBatch=0\n",
    "from=1\n",
    "finalActivations=[]\n",
    "finalOutput=[]\n",
    "finalBatch=[]\n",
    "W1,W2,b1,b2 = initialize()\n",
    "unlabeled_data= shuffle_data(unlabeled_data)\n",
    "\n",
    "for i=1:iterations\n",
    "    currentBatch+=1\n",
    "    # if iterations are more than one pass over all data, pass again over the data after shuffling\n",
    "    if currentBatch>numBatches \n",
    "        from=1\n",
    "        unlabeled_data= shuffle_data(unlabeled_data)\n",
    "    end\n",
    "    # the end index of the batch\n",
    "    to = from+batchSize-1\n",
    "    #Get current batch of the unlabeled data\n",
    "    batch=unlabeled_data[from:to,:]\n",
    "    a1,a2,a3,z2,z3,rho_hat=forward_step(batch,W1,W2,b1,b2)\n",
    "    cost,W1,W2,b1,b2= batch_gradient_descent(a1,a2,a3,z2,z3,W1,W2,b1,b2,rho_hat);\n",
    "    push!(AllCosts,cost)\n",
    "    if i==iterations\n",
    "        finalActivations=a2\n",
    "        finalOutput=a3\n",
    "        finalBatch=batch\n",
    "    end\n",
    "    cost==Inf && break\n",
    "    from = to\n",
    "end\n",
    "# The final minimum cost is:\n",
    "AllCosts[end]"
   ]
  },
  {
   "cell_type": "code",
   "execution_count": 538,
   "metadata": {
    "collapsed": false,
    "deletable": true,
    "editable": true
   },
   "outputs": [
    {
     "data": {
      "image/png": "[encoded data removed]",
      "text/plain": [
       "PyPlot.Figure(PyObject <matplotlib.figure.Figure object at 0x7fc69b369d50>)"
      ]
     },
     "metadata": {},
     "output_type": "display_data"
    },
    {
     "data": {
      "text/plain": [
       "1-element Array{Any,1}:\n",
       " PyObject <matplotlib.lines.Line2D object at 0x7fc69b312dd0>"
      ]
     },
     "execution_count": 538,
     "metadata": {},
     "output_type": "execute_result"
    }
   ],
   "source": [
    "plot(AllCosts)"
   ]
  },
  {
   "cell_type": "markdown",
   "metadata": {
    "deletable": true,
    "editable": true
   },
   "source": [
    "# Autoencoder Visulaization"
   ]
  },
  {
   "cell_type": "code",
   "execution_count": 539,
   "metadata": {
    "collapsed": true,
    "deletable": true,
    "editable": true
   },
   "outputs": [],
   "source": [
    "using Images\n",
    "using ImageView\n"
   ]
  },
  {
   "cell_type": "code",
   "execution_count": 540,
   "metadata": {
    "collapsed": false,
    "deletable": true,
    "editable": true
   },
   "outputs": [
    {
     "data": {
      "image/png": "[encoded data removed]",
      "text/plain": [
       "PyPlot.Figure(PyObject <matplotlib.figure.Figure object at 0x7fc69b2d4690>)"
      ]
     },
     "metadata": {},
     "output_type": "display_data"
    },
    {
     "data": {
      "text/plain": [
       "1-element Array{Any,1}:\n",
       " PyObject <matplotlib.lines.Line2D object at 0x7fc69b252990>"
      ]
     },
     "execution_count": 540,
     "metadata": {},
     "output_type": "execute_result"
    }
   ],
   "source": [
    "# the cost values\n",
    "plot(AllCosts)"
   ]
  },
  {
   "cell_type": "code",
   "execution_count": 545,
   "metadata": {
    "collapsed": false,
    "deletable": true,
    "editable": true
   },
   "outputs": [
    {
     "name": "stderr",
     "output_type": "stream",
     "text": [
      "WARNING: ImageMetadata.Image is deprecated, use ImageMetadata.ImageMeta instead.\n",
      "  likely near In[545]:3\n"
     ]
    },
    {
     "data": {
      "image/png": "[encoded data removed]",
      "text/plain": [
       "Gray ImageMeta with:\n",
       "  data: 28×28 Array{Gray{Float64},2}\n",
       "  properties:"
      ]
     },
     "execution_count": 545,
     "metadata": {},
     "output_type": "execute_result"
    }
   ],
   "source": [
    "# the final output layer's values (ex the 25th example in last batch)\n",
    "t= reshape(finalOutput[25,:],28,28);\n",
    "tt=convert(Image{Gray},t)"
   ]
  },
  {
   "cell_type": "code",
   "execution_count": 542,
   "metadata": {
    "collapsed": false,
    "deletable": true,
    "editable": true
   },
   "outputs": [
    {
     "name": "stderr",
     "output_type": "stream",
     "text": [
      "WARNING: ImageMetadata.Image is deprecated, use ImageMetadata.ImageMeta instead.\n",
      "  likely near In[542]:3\n"
     ]
    },
    {
     "data": {
      "image/png": "[encoded data removed]",
      "text/plain": [
       "Gray ImageMeta with:\n",
       "  data: 28×28 Array{Gray{Float64},2}\n",
       "  properties:"
      ]
     },
     "execution_count": 542,
     "metadata": {},
     "output_type": "execute_result"
    }
   ],
   "source": [
    "# the real output (ex the 25th example in last batch)\n",
    "t= reshape(finalBatch[25,:],28,28);\n",
    "tt=convert(Image{Gray},t)"
   ]
  },
  {
   "cell_type": "code",
   "execution_count": 502,
   "metadata": {
    "collapsed": false,
    "deletable": true,
    "editable": true
   },
   "outputs": [
    {
     "name": "stderr",
     "output_type": "stream",
     "text": [
      "WARNING: ImageMetadata.Image is deprecated, use ImageMetadata.ImageMeta instead.\n",
      "  likely near In[502]:2\n"
     ]
    },
    {
     "data": {
      "image/png": "[encoded data removed]",
      "text/plain": [
       "Gray ImageMeta with:\n",
       "  data: 10×10 Array{Gray{Float64},2}\n",
       "  properties:"
      ]
     },
     "execution_count": 502,
     "metadata": {},
     "output_type": "execute_result"
    }
   ],
   "source": [
    "# the actvation values at second layer (ex the 25th example in last batch)\n",
    "t= reshape(finalActivations[:,25],10,10);\n",
    "tt=convert(Image{Gray},t)"
   ]
  },
  {
   "cell_type": "code",
   "execution_count": 508,
   "metadata": {
    "collapsed": false,
    "deletable": true,
    "editable": true
   },
   "outputs": [
    {
     "name": "stderr",
     "output_type": "stream",
     "text": [
      "WARNING: ImageMetadata.Image is deprecated, use ImageMetadata.ImageMeta instead.\n",
      "  likely near In[508]:2\n"
     ]
    },
    {
     "data": {
      "image/png": "[encoded data removed]",
      "text/plain": [
       "Gray ImageMeta with:\n",
       "  data: 28×28 Array{Gray{Float64},2}\n",
       "  properties:"
      ]
     },
     "execution_count": 508,
     "metadata": {},
     "output_type": "execute_result"
    }
   ],
   "source": [
    "# the last weights values\n",
    "t= reshape(W2[25,:],28,28);\n",
    "tt=convert(Image{Gray},t)"
   ]
  },
  {
   "cell_type": "code",
   "execution_count": null,
   "metadata": {
    "collapsed": true,
    "deletable": true,
    "editable": true
   },
   "outputs": [],
   "source": []
  }
 ],
 "metadata": {
  "kernelspec": {
   "display_name": "Julia 0.5.0",
   "language": "julia",
   "name": "julia-0.5"
  },
  "language_info": {
   "file_extension": ".jl",
   "mimetype": "application/julia",
   "name": "julia",
   "version": "0.5.0"
  }
 },
 "nbformat": 4,
 "nbformat_minor": 0
}
